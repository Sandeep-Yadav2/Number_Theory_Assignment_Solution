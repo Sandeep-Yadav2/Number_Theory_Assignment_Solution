{
  "nbformat": 4,
  "nbformat_minor": 0,
  "metadata": {
    "colab": {
      "name": "Number_theory_Assignment.ipynb",
      "provenance": [],
      "collapsed_sections": [],
      "toc_visible": true
    },
    "kernelspec": {
      "name": "python3",
      "display_name": "Python 3"
    }
  },
  "cells": [
    {
      "cell_type": "markdown",
      "metadata": {
        "id": "GRYggoBgyLTU"
      },
      "source": [
        "#NUMBER THEORY ASSIGNMENT SOLUTION \r\n",
        "1. MEAN, MEDIAN,MODE\r\n",
        "2. VARIANCE\r\n",
        "3. STANDARD DEVIATION\r\n",
        "4. COVARIANCE\r\n",
        "5. CORRELATION\r\n",
        "6. KURTOSIS\r\n",
        "7. OUTLIER\r\n",
        "8. HISTOGRAM"
      ]
    },
    {
      "cell_type": "code",
      "metadata": {
        "id": "bhwXbLGmzg-X"
      },
      "source": [
        "import math\r\n",
        "import numpy as np\r\n",
        "import matplotlib.pyplot as plt\r\n",
        "import pandas as pd"
      ],
      "execution_count": null,
      "outputs": []
    },
    {
      "cell_type": "markdown",
      "metadata": {
        "id": "bNXsZRDvz5Nc"
      },
      "source": [
        "#MEAN=  Sum of all number in samples/total length of sample\r\n",
        "# Median= median if n is odd: meadian=((n+1)/2)th obserbation of sorted list\r\n",
        "#if n=even then meadian=  ((n/2)th+((n/2)+1)th)/2 observation in sorted list\r\n",
        "#mode= frequnecy of number"
      ]
    },
    {
      "cell_type": "code",
      "metadata": {
        "id": "U8ZiU32a11HM"
      },
      "source": [
        "def mean(*args):\r\n",
        "  val_sum = sum(args)\r\n",
        "  return val_sum/len(args)\r\n",
        "\r\n",
        "##median if n is odd:\r\n",
        "#meadian=((n+1)/2)th obserbation of sorted list\r\n",
        "#if n=even then meadian=  ((n/2)th+((n/2)+1)th)/2 observation in sorted list\r\n",
        "\r\n",
        "def median(*args):\r\n",
        "  args=np.sort(args)\r\n",
        "  print(args)\r\n",
        "  if (len(args)%2==0):\r\n",
        "    i=round((len(args)/2)+1)\r\n",
        "    j = i - 1\r\n",
        "    return (args[i-1] + args[j-1])/2\r\n",
        "  else:\r\n",
        "    k = round(len(args)/2)\r\n",
        "    return args[k-1]\r\n",
        "\r\n",
        "\r\n",
        "## mode  is count frequency of number in list\r\n",
        "\r\n",
        "def mode(*args):\r\n",
        "    # Count how many times values show up in\r\n",
        "    # the list and put it in a dictionary\r\n",
        "    dict_vals = {i: args.count(i) for i in args}\r\n",
        "    # Create a list of keys that have the maximum\r\n",
        "    # number of occurrence in the list\r\n",
        "    max_list = [k for k, v in dict_vals.items() if v == max(dict_vals.values())]\r\n",
        "    return max_list\r\n",
        "\r\n"
      ],
      "execution_count": null,
      "outputs": []
    },
    {
      "cell_type": "markdown",
      "metadata": {
        "id": "CwOG-lY7IpjJ"
      },
      "source": [
        "#VARIANCE: The average of the squared differences from the Mean\r\n",
        "#IF CALCULATING THE VARIANCE FOR POLULATION THEN WE DEVIDE BY N\r\n",
        "#AND FOR SAMPLE WE USE N-1 FOR DIVISION"
      ]
    },
    {
      "cell_type": "code",
      "metadata": {
        "id": "cAoCkz-J2nkU"
      },
      "source": [
        "def variance(*args):\r\n",
        "    mean_val = mean(*args)\r\n",
        "    numerator=0\r\n",
        "    for i in args:\r\n",
        "        numerator +=(i-mean_val)**2\r\n",
        "    denominator = len(args) \r\n",
        "    return numerator/denominator"
      ],
      "execution_count": null,
      "outputs": []
    },
    {
      "cell_type": "markdown",
      "metadata": {
        "id": "xlv7q1H_LgjZ"
      },
      "source": [
        "# Standard Deviation: It Is Squaroot of Variance"
      ]
    },
    {
      "cell_type": "code",
      "metadata": {
        "id": "uqu71ZW_GaSo"
      },
      "source": [
        "def standard_deviation(*args):\r\n",
        "    return (variance(*args))**0.5\r\n",
        " "
      ],
      "execution_count": null,
      "outputs": []
    },
    {
      "cell_type": "markdown",
      "metadata": {
        "id": "Yx2wOxVoMxOs"
      },
      "source": [
        "#COVARIANCE"
      ]
    },
    {
      "cell_type": "code",
      "metadata": {
        "id": "zURWcotCMa-6"
      },
      "source": [
        "def covariance(*args):\r\n",
        "    # Use a list comprehension to get all values\r\n",
        "    # stored in the 1st & 2nd list\r\n",
        "    list_1 = [i[0] for i in args]\r\n",
        "    list_2 = [i[1] for i in args]\r\n",
        "    # Pass those lists to get their means\r\n",
        "    list_1_mean = mean(*list_1[0])\r\n",
        "    list_2_mean = mean(*list_2[0])\r\n",
        "    numerator = 0\r\n",
        " \r\n",
        "    # We must have the same number of elements\r\n",
        "    # in both lists\r\n",
        "    if len(list_1[0]) == len(list_2[0]):\r\n",
        "        for i in range(len(list_1[0])):\r\n",
        "            # FInd xi - x mean * yi - y mean\r\n",
        "            numerator += (list_1[0][i] - list_1_mean) * (list_2[0][i] - list_2_mean)\r\n",
        "        denominator = len(list_1[0]) - 1\r\n",
        "        return numerator / denominator\r\n",
        "    else:\r\n",
        "        print(\"Error : You must have the same number of values in both lists\")\r\n",
        " "
      ],
      "execution_count": null,
      "outputs": []
    },
    {
      "cell_type": "markdown",
      "metadata": {
        "id": "7S6GNFCDO6lu"
      },
      "source": [
        "#CORRELATION"
      ]
    },
    {
      "cell_type": "code",
      "metadata": {
        "id": "ghZVta17M7N4"
      },
      "source": [
        "def correlation_coefficient(*args):\r\n",
        "    list_1 = [i[0] for i in args]\r\n",
        "    list_2 = [i[1] for i in args]\r\n",
        "    # Pass those lists to get their standard deviations\r\n",
        "    list_1_sd = standard_deviation(*list_1[0])\r\n",
        "    list_2_sd = standard_deviation(*list_2[0])\r\n",
        "    #print(\"L1 SD :\",list_1_sd)\r\n",
        "    #print(\"L2 SD :\",list_2_sd)\r\n",
        "    denominator = list_1_sd * list_2_sd\r\n",
        "    # Get the covariance\r\n",
        "    numerator = covariance(*args)\r\n",
        "    return numerator / denominator"
      ],
      "execution_count": null,
      "outputs": []
    },
    {
      "cell_type": "markdown",
      "metadata": {
        "id": "QXBqDw_tYc12"
      },
      "source": [
        "#**KURTOSIS**"
      ]
    },
    {
      "cell_type": "code",
      "metadata": {
        "id": "gq6SDJupYqvO"
      },
      "source": [
        "def kurtosis(*args):\r\n",
        "  mean_val=mean(*args)\r\n",
        "  numerator=0\r\n",
        "  for i in args:\r\n",
        "    numerator += (((i-mean_val)/(standard_deviation(*args)))**4)\r\n",
        "  absolute_kurtosis=numerator/len(args)\r\n",
        "  relative_kurtosis=absolute_kurtosis-3\r\n",
        "  return relative_kurtosis\r\n"
      ],
      "execution_count": null,
      "outputs": []
    },
    {
      "cell_type": "code",
      "metadata": {
        "colab": {
          "base_uri": "https://localhost:8080/"
        },
        "id": "-SmD5MT5PkIj",
        "outputId": "996a79e1-6e1f-4879-8b83-43822b61f9c0"
      },
      "source": [
        "x=[10,12,15,18,24,27]\r\n",
        "y=[38,42,55,60,65,70]\r\n",
        "correlation_coefficient((x,y))"
      ],
      "execution_count": null,
      "outputs": [
        {
          "output_type": "stream",
          "text": [
            "L1 SD : 6.128258770283411\n",
            "L2 SD : 11.604596790352806\n"
          ],
          "name": "stdout"
        },
        {
          "output_type": "execute_result",
          "data": {
            "text/plain": [
              "1.1502338734186495"
            ]
          },
          "metadata": {
            "tags": []
          },
          "execution_count": 8
        }
      ]
    },
    {
      "cell_type": "code",
      "metadata": {
        "colab": {
          "base_uri": "https://localhost:8080/"
        },
        "id": "Ss9hSBRmQmWg",
        "outputId": "46b9959a-b236-4334-c8a4-1fe6213a7c81"
      },
      "source": [
        "x=[24,22,14,21,26,19,20,13,24,26,24,26,23,20,22,16,24,26,18,15]\r\n",
        "y=(kurtosis(24,22,14,21,26,19,20,13,24,26,24,26,23,20,22,16,24,26,18,15))\r\n",
        "\r\n",
        "print(kurtosis(24,22,14,21,26,19,20,13,24,26,24,26,23,20,22,16,24,26,18,15))\r\n",
        "#print(variance(x))"
      ],
      "execution_count": null,
      "outputs": [
        {
          "output_type": "stream",
          "text": [
            "-0.8450853386936581\n"
          ],
          "name": "stdout"
        }
      ]
    },
    {
      "cell_type": "code",
      "metadata": {
        "id": "AFKIQcmUcZQx"
      },
      "source": [
        ""
      ],
      "execution_count": null,
      "outputs": []
    },
    {
      "cell_type": "markdown",
      "metadata": {
        "id": "wW31NggSvoVF"
      },
      "source": [
        "#OUTLIER: WE CAN REMOVE THE OUTLIER BY USING TWO WAYS \r\n",
        "1. BY STANDARD DEVIATIOn method\r\n",
        "2. IQR Interquartile Rage method"
      ]
    },
    {
      "cell_type": "code",
      "metadata": {
        "id": "V-Dn9xtJiRg-"
      },
      "source": [
        "#by using standard deviation\r\n",
        "def std_outlier(*args):\r\n",
        "  args=np.sort(args)\r\n",
        "  mean_val=mean(*args)\r\n",
        "  std_val=standard_deviation(*args)\r\n",
        "  print(std_val,mean_val)\r\n",
        "  #print(sum(args))\r\n",
        "  upper=round(mean_val+(3*std_val))\r\n",
        "  lower=round(mean_val-(3*std_val))\r\n",
        "  outliers = [x for x in args if x < lower or x > upper]\r\n",
        "  print('Identified outliers: %d' % len(outliers))\r\n",
        "# remove outliers\r\n",
        "  outliers_removed = [x for x in args if x >= lower and x <= upper]\r\n",
        "  print('Non-outlier observations: %d' % len(outliers_removed))\r\n",
        "  print(\"Without outlier: \",outliers_removed)\r\n",
        "  return outliers\r\n"
      ],
      "execution_count": null,
      "outputs": []
    },
    {
      "cell_type": "code",
      "metadata": {
        "id": "vrO8A7GFGBqC"
      },
      "source": [
        "#by interquartile range\r\n",
        "def IQR_outlier(*args):\r\n",
        "  q1,q3=np.percentile(args,[25,75])\r\n",
        "  IQR=q3-q1\r\n",
        "  upper=q3+(1.5*IQR)\r\n",
        "  lower=q1-(1.5*IQR)\r\n",
        "  outliers = [x for x in args if x < lower or x > upper]\r\n",
        "  print('Identified outliers: %d' % len(outliers))\r\n",
        "# remove outliers\r\n",
        "  outliers_removed = [x for x in args if x >= lower and x <= upper]\r\n",
        "  print('Non-outlier observations: %d' % len(outliers_removed))\r\n",
        "  print(\"Without outlier: \",outliers_removed)\r\n",
        "  return outliers\r\n"
      ],
      "execution_count": null,
      "outputs": []
    },
    {
      "cell_type": "code",
      "metadata": {
        "colab": {
          "base_uri": "https://localhost:8080/"
        },
        "id": "2bzbRK_js7ni",
        "outputId": "d50f8508-89f9-4ffb-e9df-3190add8aef7"
      },
      "source": [
        "print(IQR_outlier(100,2,3,4,5,6,7,8,9,10,11,12,1,103,500))"
      ],
      "execution_count": null,
      "outputs": [
        {
          "output_type": "stream",
          "text": [
            "Identified outliers: 3\n",
            "Non-outlier observations: 12\n",
            "Without outlier:  [2, 3, 4, 5, 6, 7, 8, 9, 10, 11, 12, 1]\n",
            "[100, 103, 500]\n"
          ],
          "name": "stdout"
        }
      ]
    },
    {
      "cell_type": "code",
      "metadata": {
        "colab": {
          "base_uri": "https://localhost:8080/"
        },
        "id": "WFXbiMMktBtT",
        "outputId": "f505fc64-c6e1-46c5-b02e-f7e449849441"
      },
      "source": [
        "print(std_outlier(100,2,3,4,5,6,7,8,9,10,11,12))"
      ],
      "execution_count": null,
      "outputs": [
        {
          "output_type": "stream",
          "text": [
            "25.88154104118738 14.75\n",
            "Identified outliers: 1\n",
            "Non-outlier observations: 11\n",
            "Without outlier:  [2, 3, 4, 5, 6, 7, 8, 9, 10, 11, 12]\n",
            "[100]\n"
          ],
          "name": "stdout"
        }
      ]
    },
    {
      "cell_type": "code",
      "metadata": {
        "id": "QLJsVNfzwPln"
      },
      "source": [
        "# let do exercise with data i have craeted small data scv file age and height"
      ],
      "execution_count": null,
      "outputs": []
    },
    {
      "cell_type": "code",
      "metadata": {
        "id": "RZU2Q9wnNXsB"
      },
      "source": [
        "\r\n",
        "df=pd.read_csv(\"example_data.csv\")"
      ],
      "execution_count": null,
      "outputs": []
    },
    {
      "cell_type": "code",
      "metadata": {
        "colab": {
          "base_uri": "https://localhost:8080/"
        },
        "id": "4EUenabmNqNd",
        "outputId": "9b2b5270-6b5f-4f36-e080-437f65b2becd"
      },
      "source": [
        "print(df)"
      ],
      "execution_count": null,
      "outputs": [
        {
          "output_type": "stream",
          "text": [
            "    Age  Height\n",
            "0     8      35\n",
            "1    10      38\n",
            "2    11      40\n",
            "3    13      44\n",
            "4    14      48\n",
            "5    15      55\n",
            "6    18      60\n",
            "7    20      65\n",
            "8    22      68\n",
            "9    25      72\n",
            "10   28      70\n",
            "11   30      69\n",
            "12   35      69\n",
            "13   40      65\n",
            "14   44      64\n",
            "15   48      63\n",
            "16   55      60\n",
            "17   60      55\n",
            "18   65      52\n",
            "19   25     160\n"
          ],
          "name": "stdout"
        }
      ]
    },
    {
      "cell_type": "code",
      "metadata": {
        "id": "gh1jg0AmNsoh"
      },
      "source": [
        "def histogram(*args):\r\n",
        "  age=[i[0] for i in args]\r\n",
        "\r\n",
        "  n_bins=21\r\n",
        "  height = [i[1] for i in args]\r\n",
        "\r\n",
        "  plt.hist(height,bins=21)\r\n",
        "  plt.title(\"Histogram of height\")\r\n",
        "  plt.xlabel(\"Height---->\")\r\n",
        "  plt.ylabel(\"Value--->\")\r\n",
        "\r\n",
        "  #plt.show()\r\n",
        "  \r\n"
      ],
      "execution_count": null,
      "outputs": []
    },
    {
      "cell_type": "code",
      "metadata": {
        "id": "ksChTv4WOsyB"
      },
      "source": [
        "x=df['Age']\r\n",
        "y=df['Height']\r\n",
        "x=np.array(x)\r\n",
        "y=np.array(y)"
      ],
      "execution_count": null,
      "outputs": []
    },
    {
      "cell_type": "markdown",
      "metadata": {
        "id": "qmBn2rd2Bp8f"
      },
      "source": [
        "#**Calling all the function by passing arguments**"
      ]
    },
    {
      "cell_type": "code",
      "metadata": {
        "colab": {
          "base_uri": "https://localhost:8080/",
          "height": 543
        },
        "id": "msq7BaxxPKCw",
        "outputId": "bb7bfc91-e378-4ec3-dc4a-a21f3da1cca6"
      },
      "source": [
        "print(\"MEAN-------------->       \",mean(*x))\r\n",
        "print(\"Mode-------------->       \",mode(*x))\r\n",
        "print(\"MEDIAN------------>       \",median(*x))\r\n",
        "print(\"VARIANCE---------->       \",variance(*x))\r\n",
        "print(\"STANDARD DEVIATION-->     \",standard_deviation(*x))\r\n",
        "print(\"COVARIANCE-------->       \",covariance((x,y)))\r\n",
        "print(\"CORRELATION------->       \",correlation_coefficient((x,y)))\r\n",
        "print(\"KURTOSIS---------->       \",kurtosis(*x))\r\n",
        "print(\"Outlier value--------- >   \",IQR_outlier(*y))\r\n",
        "print(\"Histogram of data>   \",histogram((x,y)))\r\n",
        "\r\n",
        "\r\n",
        "\r\n",
        "\r\n",
        "\r\n"
      ],
      "execution_count": null,
      "outputs": [
        {
          "output_type": "stream",
          "text": [
            "MEAN-------------->        29.3\n",
            "Mode-------------->        [25]\n",
            "[ 8 10 11 13 14 15 18 20 22 25 25 28 30 35 40 44 48 55 60 65]\n",
            "MEDIAN------------>        25.0\n",
            "VARIANCE---------->        288.10999999999996\n",
            "STANDARD DEVIATION-->      16.973803345155144\n",
            "COVARIANCE-------->        54.021052631578925\n",
            "CORRELATION------->        0.12764811335675025\n",
            "KURTOSIS---------->        -0.7211344135540934\n",
            "Identified outliers: 1\n",
            "Non-outlier observations: 19\n",
            "Without outlier:  [35, 38, 40, 44, 48, 55, 60, 65, 68, 72, 70, 69, 69, 65, 64, 63, 60, 55, 52]\n",
            "Outlier value--------- >    [160]\n",
            "Histogram of data>    None\n"
          ],
          "name": "stdout"
        },
        {
          "output_type": "display_data",
          "data": {
            "image/png": "[encoded data removed]",
            "text/plain": [
              "<Figure size 432x288 with 1 Axes>"
            ]
          },
          "metadata": {
            "tags": [],
            "needs_background": "light"
          }
        }
      ]
    },
    {
      "cell_type": "code",
      "metadata": {
        "id": "LENGkJsBCv7s"
      },
      "source": [
        ""
      ],
      "execution_count": null,
      "outputs": []
    },
    {
      "cell_type": "markdown",
      "metadata": {
        "id": "aWPSO0IrKYH3"
      },
      "source": [
        "#**All THE FUNCTION I DEVELOPRD HERE YOU CAN CHECK BY JUST PASSING ANY DATA FRME OR BY ANY VALUE TO FUNCTION FOR CHECK THE WORKING OF ALL PIPELINES**"
      ]
    },
    {
      "cell_type": "code",
      "metadata": {
        "id": "GjBF_qIfKskG"
      },
      "source": [
        ""
      ],
      "execution_count": null,
      "outputs": []
    }
  ]
}